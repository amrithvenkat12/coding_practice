{
 "metadata": {
  "language_info": {
   "codemirror_mode": {
    "name": "ipython",
    "version": 3
   },
   "file_extension": ".py",
   "mimetype": "text/x-python",
   "name": "python",
   "nbconvert_exporter": "python",
   "pygments_lexer": "ipython3",
   "version": "3.6.9"
  },
  "orig_nbformat": 2,
  "kernelspec": {
   "name": "python369jvsc74a57bd031f2aee4e71d21fbe5cf8b01ff0e069b9275f58929596ceb00d14d90e3e16cd6",
   "display_name": "Python 3.6.9 64-bit"
  },
  "metadata": {
   "interpreter": {
    "hash": "31f2aee4e71d21fbe5cf8b01ff0e069b9275f58929596ceb00d14d90e3e16cd6"
   }
  }
 },
 "nbformat": 4,
 "nbformat_minor": 2,
 "cells": [
  {
   "cell_type": "code",
   "execution_count": 1,
   "metadata": {},
   "outputs": [],
   "source": [
    "# import necessary modules\n",
    "import pandas as pd \n",
    "import numpy as np\n",
    "import math \n",
    "from sklearn import linear_model"
   ]
  },
  {
   "cell_type": "code",
   "execution_count": 2,
   "metadata": {},
   "outputs": [
    {
     "output_type": "execute_result",
     "data": {
      "text/plain": [
       "   area  bedrooms  age   price\n",
       "0  2600       3.0   20  550000\n",
       "1  3000       4.0   15  565000\n",
       "2  3200       NaN   18  610000\n",
       "3  3600       3.0   30  595000\n",
       "4  4000       5.0    8  760000\n",
       "5  4100       6.0    8  810000"
      ],
      "text/html": "<div>\n<style scoped>\n    .dataframe tbody tr th:only-of-type {\n        vertical-align: middle;\n    }\n\n    .dataframe tbody tr th {\n        vertical-align: top;\n    }\n\n    .dataframe thead th {\n        text-align: right;\n    }\n</style>\n<table border=\"1\" class=\"dataframe\">\n  <thead>\n    <tr style=\"text-align: right;\">\n      <th></th>\n      <th>area</th>\n      <th>bedrooms</th>\n      <th>age</th>\n      <th>price</th>\n    </tr>\n  </thead>\n  <tbody>\n    <tr>\n      <th>0</th>\n      <td>2600</td>\n      <td>3.0</td>\n      <td>20</td>\n      <td>550000</td>\n    </tr>\n    <tr>\n      <th>1</th>\n      <td>3000</td>\n      <td>4.0</td>\n      <td>15</td>\n      <td>565000</td>\n    </tr>\n    <tr>\n      <th>2</th>\n      <td>3200</td>\n      <td>NaN</td>\n      <td>18</td>\n      <td>610000</td>\n    </tr>\n    <tr>\n      <th>3</th>\n      <td>3600</td>\n      <td>3.0</td>\n      <td>30</td>\n      <td>595000</td>\n    </tr>\n    <tr>\n      <th>4</th>\n      <td>4000</td>\n      <td>5.0</td>\n      <td>8</td>\n      <td>760000</td>\n    </tr>\n    <tr>\n      <th>5</th>\n      <td>4100</td>\n      <td>6.0</td>\n      <td>8</td>\n      <td>810000</td>\n    </tr>\n  </tbody>\n</table>\n</div>"
     },
     "metadata": {},
     "execution_count": 2
    }
   ],
   "source": [
    "# visualize dataframe original\n",
    "df = pd.read_csv('datasets/homeprices_mv.csv')\n",
    "df"
   ]
  },
  {
   "cell_type": "code",
   "execution_count": 3,
   "metadata": {},
   "outputs": [
    {
     "output_type": "stream",
     "name": "stdout",
     "text": [
      "4\n"
     ]
    },
    {
     "output_type": "execute_result",
     "data": {
      "text/plain": [
       "   area  bedrooms  age   price\n",
       "0  2600       3.0   20  550000\n",
       "1  3000       4.0   15  565000\n",
       "2  3200       4.0   18  610000\n",
       "3  3600       3.0   30  595000\n",
       "4  4000       5.0    8  760000\n",
       "5  4100       6.0    8  810000"
      ],
      "text/html": "<div>\n<style scoped>\n    .dataframe tbody tr th:only-of-type {\n        vertical-align: middle;\n    }\n\n    .dataframe tbody tr th {\n        vertical-align: top;\n    }\n\n    .dataframe thead th {\n        text-align: right;\n    }\n</style>\n<table border=\"1\" class=\"dataframe\">\n  <thead>\n    <tr style=\"text-align: right;\">\n      <th></th>\n      <th>area</th>\n      <th>bedrooms</th>\n      <th>age</th>\n      <th>price</th>\n    </tr>\n  </thead>\n  <tbody>\n    <tr>\n      <th>0</th>\n      <td>2600</td>\n      <td>3.0</td>\n      <td>20</td>\n      <td>550000</td>\n    </tr>\n    <tr>\n      <th>1</th>\n      <td>3000</td>\n      <td>4.0</td>\n      <td>15</td>\n      <td>565000</td>\n    </tr>\n    <tr>\n      <th>2</th>\n      <td>3200</td>\n      <td>4.0</td>\n      <td>18</td>\n      <td>610000</td>\n    </tr>\n    <tr>\n      <th>3</th>\n      <td>3600</td>\n      <td>3.0</td>\n      <td>30</td>\n      <td>595000</td>\n    </tr>\n    <tr>\n      <th>4</th>\n      <td>4000</td>\n      <td>5.0</td>\n      <td>8</td>\n      <td>760000</td>\n    </tr>\n    <tr>\n      <th>5</th>\n      <td>4100</td>\n      <td>6.0</td>\n      <td>8</td>\n      <td>810000</td>\n    </tr>\n  </tbody>\n</table>\n</div>"
     },
     "metadata": {},
     "execution_count": 3
    }
   ],
   "source": [
    "# Clean up data NaN. use median function to update or clean the value\n",
    "median_bedrooms=math.floor(df.bedrooms.median())\n",
    "print(median_bedrooms)\n",
    "df.bedrooms=df.bedrooms.fillna(median_bedrooms)\n",
    "df"
   ]
  },
  {
   "cell_type": "code",
   "execution_count": 4,
   "metadata": {},
   "outputs": [
    {
     "output_type": "stream",
     "name": "stdout",
     "text": [
      "coeffs :[  112.06244194 23388.88007794 -3231.71790863]\nintercept :221323.00186540396\n[498408.25158031]\n[578876.03748933]\n"
     ]
    },
    {
     "output_type": "execute_result",
     "data": {
      "text/plain": [
       "   area  bedrooms  age   price\n",
       "0  2600       3.0   20  550000\n",
       "1  3000       4.0   15  565000\n",
       "2  3200       4.0   18  610000\n",
       "3  3600       3.0   30  595000\n",
       "4  4000       5.0    8  760000\n",
       "5  4100       6.0    8  810000"
      ],
      "text/html": "<div>\n<style scoped>\n    .dataframe tbody tr th:only-of-type {\n        vertical-align: middle;\n    }\n\n    .dataframe tbody tr th {\n        vertical-align: top;\n    }\n\n    .dataframe thead th {\n        text-align: right;\n    }\n</style>\n<table border=\"1\" class=\"dataframe\">\n  <thead>\n    <tr style=\"text-align: right;\">\n      <th></th>\n      <th>area</th>\n      <th>bedrooms</th>\n      <th>age</th>\n      <th>price</th>\n    </tr>\n  </thead>\n  <tbody>\n    <tr>\n      <th>0</th>\n      <td>2600</td>\n      <td>3.0</td>\n      <td>20</td>\n      <td>550000</td>\n    </tr>\n    <tr>\n      <th>1</th>\n      <td>3000</td>\n      <td>4.0</td>\n      <td>15</td>\n      <td>565000</td>\n    </tr>\n    <tr>\n      <th>2</th>\n      <td>3200</td>\n      <td>4.0</td>\n      <td>18</td>\n      <td>610000</td>\n    </tr>\n    <tr>\n      <th>3</th>\n      <td>3600</td>\n      <td>3.0</td>\n      <td>30</td>\n      <td>595000</td>\n    </tr>\n    <tr>\n      <th>4</th>\n      <td>4000</td>\n      <td>5.0</td>\n      <td>8</td>\n      <td>760000</td>\n    </tr>\n    <tr>\n      <th>5</th>\n      <td>4100</td>\n      <td>6.0</td>\n      <td>8</td>\n      <td>810000</td>\n    </tr>\n  </tbody>\n</table>\n</div>"
     },
     "metadata": {},
     "execution_count": 4
    }
   ],
   "source": [
    "# creating lin reg\n",
    "reg = linear_model.LinearRegression() #object creation\n",
    "reg.fit(df[['area','bedrooms','age']],df.price)\n",
    "\n",
    "print('coeffs :'+str(reg.coef_))\n",
    "print('intercept :'+str(reg.intercept_))\n",
    "\n",
    "pred1 = reg.predict([[3000,3,40]]) #area,bedrooms,age\n",
    "print(pred1)\n",
    "\n",
    "pred2 = reg.predict([[2500,4,5]])\n",
    "print(pred2)\n",
    "\n",
    "df"
   ]
  },
  {
   "cell_type": "code",
   "execution_count": 14,
   "metadata": {},
   "outputs": [
    {
     "output_type": "execute_result",
     "data": {
      "text/plain": [
       "  experience  test_score(out of 10)  interview_score(out of 10)  salary($)\n",
       "0        NaN                    8.0                           9      50000\n",
       "1        NaN                    8.0                           6      45000\n",
       "2       five                    6.0                           7      60000\n",
       "3        two                   10.0                          10      65000\n",
       "4      seven                    9.0                           6      70000\n",
       "5      three                    7.0                          10      62000\n",
       "6        ten                    NaN                           7      72000\n",
       "7     eleven                    7.0                           8      80000"
      ],
      "text/html": "<div>\n<style scoped>\n    .dataframe tbody tr th:only-of-type {\n        vertical-align: middle;\n    }\n\n    .dataframe tbody tr th {\n        vertical-align: top;\n    }\n\n    .dataframe thead th {\n        text-align: right;\n    }\n</style>\n<table border=\"1\" class=\"dataframe\">\n  <thead>\n    <tr style=\"text-align: right;\">\n      <th></th>\n      <th>experience</th>\n      <th>test_score(out of 10)</th>\n      <th>interview_score(out of 10)</th>\n      <th>salary($)</th>\n    </tr>\n  </thead>\n  <tbody>\n    <tr>\n      <th>0</th>\n      <td>NaN</td>\n      <td>8.0</td>\n      <td>9</td>\n      <td>50000</td>\n    </tr>\n    <tr>\n      <th>1</th>\n      <td>NaN</td>\n      <td>8.0</td>\n      <td>6</td>\n      <td>45000</td>\n    </tr>\n    <tr>\n      <th>2</th>\n      <td>five</td>\n      <td>6.0</td>\n      <td>7</td>\n      <td>60000</td>\n    </tr>\n    <tr>\n      <th>3</th>\n      <td>two</td>\n      <td>10.0</td>\n      <td>10</td>\n      <td>65000</td>\n    </tr>\n    <tr>\n      <th>4</th>\n      <td>seven</td>\n      <td>9.0</td>\n      <td>6</td>\n      <td>70000</td>\n    </tr>\n    <tr>\n      <th>5</th>\n      <td>three</td>\n      <td>7.0</td>\n      <td>10</td>\n      <td>62000</td>\n    </tr>\n    <tr>\n      <th>6</th>\n      <td>ten</td>\n      <td>NaN</td>\n      <td>7</td>\n      <td>72000</td>\n    </tr>\n    <tr>\n      <th>7</th>\n      <td>eleven</td>\n      <td>7.0</td>\n      <td>8</td>\n      <td>80000</td>\n    </tr>\n  </tbody>\n</table>\n</div>"
     },
     "metadata": {},
     "execution_count": 14
    }
   ],
   "source": [
    "#exercise problem \n",
    "#find for:\n",
    "#exp 2, test 9, int 6\n",
    "#exp 12,test 10, int 10\n",
    "df2= pd.read_csv('datasets/hiring.csv')\n",
    "\n",
    "df2\n",
    " "
   ]
  },
  {
   "cell_type": "code",
   "execution_count": 15,
   "metadata": {},
   "outputs": [
    {
     "output_type": "execute_result",
     "data": {
      "text/plain": [
       "  experience  test_score(out of 10)  interview_score(out of 10)  salary($)\n",
       "0        NaN                    8.0                           9      50000\n",
       "1        NaN                    8.0                           6      45000\n",
       "2       five                    6.0                           7      60000\n",
       "3        two                   10.0                          10      65000\n",
       "4      seven                    9.0                           6      70000\n",
       "5      three                    7.0                          10      62000\n",
       "6        ten                    8.0                           7      72000\n",
       "7     eleven                    7.0                           8      80000"
      ],
      "text/html": "<div>\n<style scoped>\n    .dataframe tbody tr th:only-of-type {\n        vertical-align: middle;\n    }\n\n    .dataframe tbody tr th {\n        vertical-align: top;\n    }\n\n    .dataframe thead th {\n        text-align: right;\n    }\n</style>\n<table border=\"1\" class=\"dataframe\">\n  <thead>\n    <tr style=\"text-align: right;\">\n      <th></th>\n      <th>experience</th>\n      <th>test_score(out of 10)</th>\n      <th>interview_score(out of 10)</th>\n      <th>salary($)</th>\n    </tr>\n  </thead>\n  <tbody>\n    <tr>\n      <th>0</th>\n      <td>NaN</td>\n      <td>8.0</td>\n      <td>9</td>\n      <td>50000</td>\n    </tr>\n    <tr>\n      <th>1</th>\n      <td>NaN</td>\n      <td>8.0</td>\n      <td>6</td>\n      <td>45000</td>\n    </tr>\n    <tr>\n      <th>2</th>\n      <td>five</td>\n      <td>6.0</td>\n      <td>7</td>\n      <td>60000</td>\n    </tr>\n    <tr>\n      <th>3</th>\n      <td>two</td>\n      <td>10.0</td>\n      <td>10</td>\n      <td>65000</td>\n    </tr>\n    <tr>\n      <th>4</th>\n      <td>seven</td>\n      <td>9.0</td>\n      <td>6</td>\n      <td>70000</td>\n    </tr>\n    <tr>\n      <th>5</th>\n      <td>three</td>\n      <td>7.0</td>\n      <td>10</td>\n      <td>62000</td>\n    </tr>\n    <tr>\n      <th>6</th>\n      <td>ten</td>\n      <td>8.0</td>\n      <td>7</td>\n      <td>72000</td>\n    </tr>\n    <tr>\n      <th>7</th>\n      <td>eleven</td>\n      <td>7.0</td>\n      <td>8</td>\n      <td>80000</td>\n    </tr>\n  </tbody>\n</table>\n</div>"
     },
     "metadata": {},
     "execution_count": 15
    }
   ],
   "source": [
    "#fill in the NaN test scores\n",
    "median_test_score=math.floor(df2['test_score(out of 10)'].median())\n",
    "df2['test_score(out of 10)']=df2['test_score(out of 10)'].fillna(median_test_score)\n",
    "\n",
    "df2"
   ]
  },
  {
   "cell_type": "code",
   "execution_count": 16,
   "metadata": {},
   "outputs": [
    {
     "output_type": "execute_result",
     "data": {
      "text/plain": [
       "  experience  test_score(out of 10)  interview_score(out of 10)  salary($)\n",
       "0          0                    8.0                           9      50000\n",
       "1          0                    8.0                           6      45000\n",
       "2       five                    6.0                           7      60000\n",
       "3        two                   10.0                          10      65000\n",
       "4      seven                    9.0                           6      70000\n",
       "5      three                    7.0                          10      62000\n",
       "6        ten                    8.0                           7      72000\n",
       "7     eleven                    7.0                           8      80000"
      ],
      "text/html": "<div>\n<style scoped>\n    .dataframe tbody tr th:only-of-type {\n        vertical-align: middle;\n    }\n\n    .dataframe tbody tr th {\n        vertical-align: top;\n    }\n\n    .dataframe thead th {\n        text-align: right;\n    }\n</style>\n<table border=\"1\" class=\"dataframe\">\n  <thead>\n    <tr style=\"text-align: right;\">\n      <th></th>\n      <th>experience</th>\n      <th>test_score(out of 10)</th>\n      <th>interview_score(out of 10)</th>\n      <th>salary($)</th>\n    </tr>\n  </thead>\n  <tbody>\n    <tr>\n      <th>0</th>\n      <td>0</td>\n      <td>8.0</td>\n      <td>9</td>\n      <td>50000</td>\n    </tr>\n    <tr>\n      <th>1</th>\n      <td>0</td>\n      <td>8.0</td>\n      <td>6</td>\n      <td>45000</td>\n    </tr>\n    <tr>\n      <th>2</th>\n      <td>five</td>\n      <td>6.0</td>\n      <td>7</td>\n      <td>60000</td>\n    </tr>\n    <tr>\n      <th>3</th>\n      <td>two</td>\n      <td>10.0</td>\n      <td>10</td>\n      <td>65000</td>\n    </tr>\n    <tr>\n      <th>4</th>\n      <td>seven</td>\n      <td>9.0</td>\n      <td>6</td>\n      <td>70000</td>\n    </tr>\n    <tr>\n      <th>5</th>\n      <td>three</td>\n      <td>7.0</td>\n      <td>10</td>\n      <td>62000</td>\n    </tr>\n    <tr>\n      <th>6</th>\n      <td>ten</td>\n      <td>8.0</td>\n      <td>7</td>\n      <td>72000</td>\n    </tr>\n    <tr>\n      <th>7</th>\n      <td>eleven</td>\n      <td>7.0</td>\n      <td>8</td>\n      <td>80000</td>\n    </tr>\n  </tbody>\n</table>\n</div>"
     },
     "metadata": {},
     "execution_count": 16
    }
   ],
   "source": [
    "from word2number import w2n\n",
    "\n",
    "#fill NaN of experience with 0\n",
    "df2.experience = df2.experience.fillna('0')\n",
    "df2"
   ]
  },
  {
   "cell_type": "code",
   "execution_count": 17,
   "metadata": {},
   "outputs": [
    {
     "output_type": "execute_result",
     "data": {
      "text/plain": [
       "   experience  test_score(out of 10)  interview_score(out of 10)  salary($)\n",
       "0           0                    8.0                           9      50000\n",
       "1           0                    8.0                           6      45000\n",
       "2           5                    6.0                           7      60000\n",
       "3           2                   10.0                          10      65000\n",
       "4           7                    9.0                           6      70000\n",
       "5           3                    7.0                          10      62000\n",
       "6          10                    8.0                           7      72000\n",
       "7          11                    7.0                           8      80000"
      ],
      "text/html": "<div>\n<style scoped>\n    .dataframe tbody tr th:only-of-type {\n        vertical-align: middle;\n    }\n\n    .dataframe tbody tr th {\n        vertical-align: top;\n    }\n\n    .dataframe thead th {\n        text-align: right;\n    }\n</style>\n<table border=\"1\" class=\"dataframe\">\n  <thead>\n    <tr style=\"text-align: right;\">\n      <th></th>\n      <th>experience</th>\n      <th>test_score(out of 10)</th>\n      <th>interview_score(out of 10)</th>\n      <th>salary($)</th>\n    </tr>\n  </thead>\n  <tbody>\n    <tr>\n      <th>0</th>\n      <td>0</td>\n      <td>8.0</td>\n      <td>9</td>\n      <td>50000</td>\n    </tr>\n    <tr>\n      <th>1</th>\n      <td>0</td>\n      <td>8.0</td>\n      <td>6</td>\n      <td>45000</td>\n    </tr>\n    <tr>\n      <th>2</th>\n      <td>5</td>\n      <td>6.0</td>\n      <td>7</td>\n      <td>60000</td>\n    </tr>\n    <tr>\n      <th>3</th>\n      <td>2</td>\n      <td>10.0</td>\n      <td>10</td>\n      <td>65000</td>\n    </tr>\n    <tr>\n      <th>4</th>\n      <td>7</td>\n      <td>9.0</td>\n      <td>6</td>\n      <td>70000</td>\n    </tr>\n    <tr>\n      <th>5</th>\n      <td>3</td>\n      <td>7.0</td>\n      <td>10</td>\n      <td>62000</td>\n    </tr>\n    <tr>\n      <th>6</th>\n      <td>10</td>\n      <td>8.0</td>\n      <td>7</td>\n      <td>72000</td>\n    </tr>\n    <tr>\n      <th>7</th>\n      <td>11</td>\n      <td>7.0</td>\n      <td>8</td>\n      <td>80000</td>\n    </tr>\n  </tbody>\n</table>\n</div>"
     },
     "metadata": {},
     "execution_count": 17
    }
   ],
   "source": [
    "df2.experience=df2.experience.apply(w2n.word_to_num) #apply method\n",
    "df2"
   ]
  },
  {
   "cell_type": "code",
   "execution_count": 18,
   "metadata": {},
   "outputs": [
    {
     "output_type": "stream",
     "name": "stdout",
     "text": [
      "coeffs :[2812.95487627 1845.70596798 2205.24017467]\nintercept :17737.263464337702\n[53205.96797671]\n[92002.18340611]\n"
     ]
    },
    {
     "output_type": "execute_result",
     "data": {
      "text/plain": [
       "   experience  test_score(out of 10)  interview_score(out of 10)  salary($)\n",
       "0           0                    8.0                           9      50000\n",
       "1           0                    8.0                           6      45000\n",
       "2           5                    6.0                           7      60000\n",
       "3           2                   10.0                          10      65000\n",
       "4           7                    9.0                           6      70000\n",
       "5           3                    7.0                          10      62000\n",
       "6          10                    8.0                           7      72000\n",
       "7          11                    7.0                           8      80000"
      ],
      "text/html": "<div>\n<style scoped>\n    .dataframe tbody tr th:only-of-type {\n        vertical-align: middle;\n    }\n\n    .dataframe tbody tr th {\n        vertical-align: top;\n    }\n\n    .dataframe thead th {\n        text-align: right;\n    }\n</style>\n<table border=\"1\" class=\"dataframe\">\n  <thead>\n    <tr style=\"text-align: right;\">\n      <th></th>\n      <th>experience</th>\n      <th>test_score(out of 10)</th>\n      <th>interview_score(out of 10)</th>\n      <th>salary($)</th>\n    </tr>\n  </thead>\n  <tbody>\n    <tr>\n      <th>0</th>\n      <td>0</td>\n      <td>8.0</td>\n      <td>9</td>\n      <td>50000</td>\n    </tr>\n    <tr>\n      <th>1</th>\n      <td>0</td>\n      <td>8.0</td>\n      <td>6</td>\n      <td>45000</td>\n    </tr>\n    <tr>\n      <th>2</th>\n      <td>5</td>\n      <td>6.0</td>\n      <td>7</td>\n      <td>60000</td>\n    </tr>\n    <tr>\n      <th>3</th>\n      <td>2</td>\n      <td>10.0</td>\n      <td>10</td>\n      <td>65000</td>\n    </tr>\n    <tr>\n      <th>4</th>\n      <td>7</td>\n      <td>9.0</td>\n      <td>6</td>\n      <td>70000</td>\n    </tr>\n    <tr>\n      <th>5</th>\n      <td>3</td>\n      <td>7.0</td>\n      <td>10</td>\n      <td>62000</td>\n    </tr>\n    <tr>\n      <th>6</th>\n      <td>10</td>\n      <td>8.0</td>\n      <td>7</td>\n      <td>72000</td>\n    </tr>\n    <tr>\n      <th>7</th>\n      <td>11</td>\n      <td>7.0</td>\n      <td>8</td>\n      <td>80000</td>\n    </tr>\n  </tbody>\n</table>\n</div>"
     },
     "metadata": {},
     "execution_count": 18
    }
   ],
   "source": [
    "#create linear reg\n",
    "reg2 = linear_model.LinearRegression()\n",
    "reg2.fit(df2[['experience','test_score(out of 10)','interview_score(out of 10)']],df2['salary($)'])\n",
    "\n",
    "print('coeffs :'+str(reg2.coef_))\n",
    "print('intercept :'+str(reg2.intercept_))\n",
    "\n",
    "\n",
    "pred3 = reg2.predict([[2,9,6]]) #exp,testscore,intscore\n",
    "print(pred3)\n",
    "\n",
    "pred4 = reg2.predict([[12,10,10]])\n",
    "print(pred4)\n",
    "\n",
    "df2"
   ]
  },
  {
   "cell_type": "code",
   "execution_count": null,
   "metadata": {},
   "outputs": [],
   "source": []
  }
 ]
}